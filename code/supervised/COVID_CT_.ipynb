{
  "nbformat": 4,
  "nbformat_minor": 0,
  "metadata": {
    "colab": {
      "name": "Untitled0.ipynb",
      "provenance": []
    },
    "kernelspec": {
      "name": "python3",
      "display_name": "Python 3"
    }
  },
  "cells": [
    {
      "cell_type": "code",
      "metadata": {
        "id": "Cjmfh6-aCq_-"
      },
      "source": [
        "# First imports\n",
        "import numpy as np # linear algebra\n",
        "import pandas as pd # data processing, CSV file I/O (e.g. pd.read_csv)\n",
        "import os\n",
        "from glob import glob\n",
        "import random\n",
        "import shutil"
      ],
      "execution_count": 1,
      "outputs": []
    },
    {
      "cell_type": "code",
      "metadata": {
        "id": "LCDviq2-C8Iu"
      },
      "source": [
        "#Delete working directory from previous experiment if exists\n",
        "fileListToDelete = ['/kaggle/working/train', '/kaggle/working/validation', '/kaggle/working/test']\n",
        "for fileName in fileListToDelete:\n",
        "    try:\n",
        "        shutil.rmtree(fileName)\n",
        "        break\n",
        "    except:\n",
        "        print(\"Directory \",fileName,\" not found to delete.\")\n",
        "\n",
        "#Create directories for training, validation and test data\n",
        "subdirs  = ['train/', 'validation/', 'test/']\n",
        "for subdir in subdirs:\n",
        "    labeldirs = ['CT_COVID', 'CT_NonCOVID']\n",
        "    for labldir in labeldirs:\n",
        "        newdir = subdir + labldir\n",
        "        os.makedirs(newdir, exist_ok=True)"
      ],
      "execution_count": null,
      "outputs": []
    }
  ]
}