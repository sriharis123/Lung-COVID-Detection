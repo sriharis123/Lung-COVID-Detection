{
 "cells": [
  {
   "cell_type": "code",
   "execution_count": 1,
   "metadata": {},
   "outputs": [
    {
     "name": "stdout",
     "output_type": "stream",
     "text": [
      "True\n",
      "D:\\Official\\Georgia Tech\\Fall 2020\\CS 4641\\Lung-COVID-Detection\\code\\scans\\CT_COVID\n"
     ]
    }
   ],
   "source": [
    "import cv2\n",
    "import os\n",
    "import random\n",
    "import matplotlib.image as img\n",
    "import matplotlib.pyplot as plt\n",
    "from sklearn.cluster import DBSCAN\n",
    "import numpy as np\n",
    "\n",
    "posCOVDir = \"../scans/CT_COVID\"\n",
    "negCOVDir = \"../scans/CT_NonCOVID\"\n",
    "print(os.path.exists(posCOVDir))\n",
    "absPosPath = os.path.abspath(posCOVDir)\n",
    "print(absPosPath)\n",
    "absNegPath = os.path.abspath(negCOVDir)"
   ]
  },
  {
   "cell_type": "code",
   "execution_count": 15,
   "metadata": {},
   "outputs": [],
   "source": [
    "#gets random positive covid images to analyze\n",
    "def getPosImg():\n",
    "    try:\n",
    "        posFiles = os.listdir(posCOVDir)\n",
    "        d = random.choice(posFiles)\n",
    "        imgPath = os.path.join(absPosPath, d) \n",
    "        print(imgPath)\n",
    "        posImg = img.imread(imgPath)\n",
    "    except:\n",
    "        posFiles = os.listdir(posCOVDir)\n",
    "        d = random.choice(posFiles)\n",
    "        imgPath = os.path.join(absPosPath, d) \n",
    "        print(imgPath)\n",
    "        posImg = img.imread(imgPath)\n",
    "    return posImg"
   ]
  },
  {
   "cell_type": "code",
   "execution_count": 16,
   "metadata": {},
   "outputs": [],
   "source": [
    "#gets random negateive covid images to analyze\n",
    "def getNegImg():\n",
    "    try:\n",
    "        negFiles = os.listdir(negCOVDir)\n",
    "        d = random.choice(negFiles)\n",
    "        imgPath = os.path.join(absNegPath, d) \n",
    "        print(imgPath)\n",
    "\n",
    "        negImg = img.imread(imgPath)\n",
    "    except:\n",
    "        negFiles = os.listdir(negCOVDir)\n",
    "        d = random.choice(negFiles)\n",
    "        imgPath = os.path.join(absNegPath, d) \n",
    "        print(imgPath)\n",
    "        negImg = img.imread(imgPath)\n",
    "\n",
    "    return negImg"
   ]
  },
  {
   "cell_type": "code",
   "execution_count": 21,
   "metadata": {},
   "outputs": [
    {
     "name": "stdout",
     "output_type": "stream",
     "text": [
      "D:\\Official\\Georgia Tech\\Fall 2020\\CS 4641\\Lung-COVID-Detection\\code\\scans\\CT_COVID\\2020.03.18.20038125-p16-56-5.png\n",
      "D:\\Official\\Georgia Tech\\Fall 2020\\CS 4641\\Lung-COVID-Detection\\code\\scans\\CT_COVID\\2020.02.10.20021584-p6-52%9.png\n"
     ]
    }
   ],
   "source": [
    "posImg = getPosImg()\n"
   ]
  },
  {
   "cell_type": "code",
   "execution_count": 18,
   "metadata": {},
   "outputs": [
    {
     "name": "stdout",
     "output_type": "stream",
     "text": [
      "D:\\Official\\Georgia Tech\\Fall 2020\\CS 4641\\Lung-COVID-Detection\\code\\scans\\CT_NonCOVID\\2039.png\n"
     ]
    }
   ],
   "source": [
    "negImg = getNegImg()"
   ]
  },
  {
   "cell_type": "code",
   "execution_count": 41,
   "metadata": {
    "scrolled": true
   },
   "outputs": [],
   "source": [
    "def positiveImgDBSCAN(posImg, epsi):\n",
    "    labimg = cv2.cvtColor(posImg, cv2.COLOR_BGR2LAB)\n",
    "\n",
    "    n = 0\n",
    "    while(n<4):\n",
    "        labimg = cv2.pyrDown(labimg)\n",
    "        n = n+1\n",
    "\n",
    "    feature_image=np.reshape(labimg, [-1, 3])\n",
    "    rows, cols, chs = labimg.shape\n",
    "\n",
    "    print(posImg.shape)\n",
    "    db = DBSCAN(eps = epsi, min_samples=50, metric = 'euclidean',algorithm ='auto')\n",
    "    db.fit(feature_image)\n",
    "    labels = db.labels_\n",
    "\n",
    "    indices = np.dstack(np.indices(labimg.shape[:2]))\n",
    "    xycolors = np.concatenate((labimg, indices), axis=-1) \n",
    "    feature_image2 = np.reshape(xycolors, [-1,5])\n",
    "    db.fit(feature_image2)\n",
    "    labels2 = db.labels_\n",
    "\n",
    "    resultImg = np.reshape(labels2, [rows, cols])\n",
    "\n",
    "    return resultImg"
   ]
  },
  {
   "cell_type": "code",
   "execution_count": 42,
   "metadata": {
    "scrolled": false
   },
   "outputs": [
    {
     "name": "stdout",
     "output_type": "stream",
     "text": [
      "(202, 287, 3)\n"
     ]
    },
    {
     "data": {
      "text/plain": [
       "(-0.5, 17.5, 12.5, -0.5)"
      ]
     },
     "execution_count": 42,
     "metadata": {},
     "output_type": "execute_result"
    },
    {
     "data": {
      "image/png": "[encoded data removed]",
      "text/plain": [
       "<Figure size 432x288 with 2 Axes>"
      ]
     },
     "metadata": {
      "needs_background": "light"
     },
     "output_type": "display_data"
    }
   ],
   "source": [
    "resultPosImg = positiveImgDBSCAN(posImg,8.45)\n",
    "\n",
    "plt.figure(2)\n",
    "plt.subplot(2, 1, 1)\n",
    "plt.imshow(posImg)\n",
    "plt.axis('off')\n",
    "\n",
    "plt.subplot(2, 1, 2)\n",
    "plt.imshow(resultPosImg)\n",
    "plt.axis('off')"
   ]
  },
  {
   "cell_type": "code",
   "execution_count": 8,
   "metadata": {},
   "outputs": [],
   "source": [
    "def negativeImgDBSCAN(negImg, epsi):\n",
    "    labimg = cv2.cvtColor(negImg, cv2.COLOR_BGR2LAB)\n",
    "\n",
    "    n = 0\n",
    "    while(n<4):\n",
    "        labimg = cv2.pyrDown(labimg)\n",
    "        n = n+1\n",
    "\n",
    "    feature_image=np.reshape(labimg, [-1, 3])\n",
    "    rows, cols, chs = labimg.shape\n",
    "\n",
    "    print(posImg.shape)\n",
    "    db = DBSCAN(eps=epsi, min_samples=50, metric = 'euclidean',algorithm ='auto')\n",
    "    db.fit(feature_image)\n",
    "    labels = db.labels_\n",
    "\n",
    "    indices = np.dstack(np.indices(labimg.shape[:2]))\n",
    "    xycolors = np.concatenate((labimg, indices), axis=-1) \n",
    "    feature_image2 = np.reshape(xycolors, [-1,5])\n",
    "    db.fit(feature_image2)\n",
    "    labels2 = db.labels_\n",
    "\n",
    "    resultImg = np.reshape(labels2, [rows, cols])\n",
    "    return resultImg"
   ]
  },
  {
   "cell_type": "code",
   "execution_count": 9,
   "metadata": {},
   "outputs": [
    {
     "name": "stdout",
     "output_type": "stream",
     "text": [
      "(407, 600)\n"
     ]
    },
    {
     "data": {
      "text/plain": [
       "(-0.5, 21.5, 17.5, -0.5)"
      ]
     },
     "execution_count": 9,
     "metadata": {},
     "output_type": "execute_result"
    },
    {
     "data": {
      "image/png": "[encoded data removed]",
      "text/plain": [
       "<Figure size 432x288 with 2 Axes>"
      ]
     },
     "metadata": {
      "needs_background": "light"
     },
     "output_type": "display_data"
    }
   ],
   "source": [
    "resultNegImg = negativeImgDBSCAN(negImg,18.574)\n",
    "\n",
    "plt.figure(2)\n",
    "plt.subplot(2, 1, 1)\n",
    "plt.imshow(negImg)\n",
    "plt.axis('off')\n",
    "\n",
    "plt.subplot(2, 1, 2)\n",
    "plt.imshow(resultNegImg)\n",
    "plt.axis('off')"
   ]
  },
  {
   "cell_type": "code",
   "execution_count": 10,
   "metadata": {},
   "outputs": [],
   "source": [
    "#TODO FIX THIS \n",
    "def getPlotImg(n_img = 5):\n",
    "    arrPosImg = []\n",
    "    processedPosImg= []\n",
    "    arrNegImg = []\n",
    "    processedNegImg = []\n",
    "    for i in range(n_img):\n",
    "        arrPosImg.append(getPosImg())\n",
    "        arrNegImg.append(getNegImg())\n",
    "        processedPosImg.append(positiveImgDBSCAN(arrPosImg[i]))\n",
    "        processedNegImg.append(negativeImgDBSCAN(arrNegImg[i]))\n",
    "    return arrPosImg, processedPosImg, arrNegImg, processedNegImg\n",
    "        "
   ]
  },
  {
   "cell_type": "code",
   "execution_count": 11,
   "metadata": {},
   "outputs": [
    {
     "name": "stdout",
     "output_type": "stream",
     "text": [
      "D:\\Official\\Georgia Tech\\Fall 2020\\CS 4641\\Lung-COVID-Detection\\code\\scans\\CT_COVID\\Ni2020_Article_CombinationOfWesternMedicineAn-p4-13%0.png\n",
      "D:\\Official\\Georgia Tech\\Fall 2020\\CS 4641\\Lung-COVID-Detection\\code\\scans\\CT_NonCOVID\\63%5.jpg\n"
     ]
    },
    {
     "ename": "TypeError",
     "evalue": "positiveImgDBSCAN() missing 1 required positional argument: 'epsi'",
     "output_type": "error",
     "traceback": [
      "\u001b[1;31m---------------------------------------------------------------------------\u001b[0m",
      "\u001b[1;31mTypeError\u001b[0m                                 Traceback (most recent call last)",
      "\u001b[1;32m<ipython-input-11-92c35d91d306>\u001b[0m in \u001b[0;36m<module>\u001b[1;34m\u001b[0m\n\u001b[0;32m      1\u001b[0m \u001b[0mn_img\u001b[0m \u001b[1;33m=\u001b[0m \u001b[1;36m2\u001b[0m\u001b[1;33m\u001b[0m\u001b[1;33m\u001b[0m\u001b[0m\n\u001b[1;32m----> 2\u001b[1;33m \u001b[0marrPos\u001b[0m\u001b[1;33m,\u001b[0m \u001b[0mproPos\u001b[0m\u001b[1;33m,\u001b[0m \u001b[0marrNeg\u001b[0m\u001b[1;33m,\u001b[0m \u001b[0mproNeg\u001b[0m \u001b[1;33m=\u001b[0m \u001b[0mgetPlotImg\u001b[0m\u001b[1;33m(\u001b[0m\u001b[0mn_img\u001b[0m\u001b[1;33m)\u001b[0m\u001b[1;33m\u001b[0m\u001b[1;33m\u001b[0m\u001b[0m\n\u001b[0m\u001b[0;32m      3\u001b[0m \u001b[1;32mfor\u001b[0m \u001b[0mi\u001b[0m \u001b[1;32min\u001b[0m \u001b[0mrange\u001b[0m\u001b[1;33m(\u001b[0m\u001b[0mn_img\u001b[0m\u001b[1;33m)\u001b[0m\u001b[1;33m:\u001b[0m\u001b[1;33m\u001b[0m\u001b[1;33m\u001b[0m\u001b[0m\n\u001b[0;32m      4\u001b[0m     \u001b[0max\u001b[0m \u001b[1;33m=\u001b[0m \u001b[0mfig\u001b[0m\u001b[1;33m.\u001b[0m\u001b[0madd_subplot\u001b[0m\u001b[1;33m(\u001b[0m\u001b[1;36m3\u001b[0m\u001b[1;33m,\u001b[0m \u001b[1;36m3\u001b[0m\u001b[1;33m,\u001b[0m \u001b[0mi\u001b[0m \u001b[1;33m+\u001b[0m \u001b[1;36m1\u001b[0m\u001b[1;33m,\u001b[0m \u001b[0mxticks\u001b[0m\u001b[1;33m=\u001b[0m\u001b[1;33m[\u001b[0m\u001b[1;33m]\u001b[0m\u001b[1;33m,\u001b[0m \u001b[0myticks\u001b[0m\u001b[1;33m=\u001b[0m\u001b[1;33m[\u001b[0m\u001b[1;33m]\u001b[0m\u001b[1;33m)\u001b[0m\u001b[1;33m\u001b[0m\u001b[1;33m\u001b[0m\u001b[0m\n\u001b[0;32m      5\u001b[0m     \u001b[0max\u001b[0m\u001b[1;33m.\u001b[0m\u001b[0mimshow\u001b[0m\u001b[1;33m(\u001b[0m\u001b[0marrPos\u001b[0m\u001b[1;33m[\u001b[0m\u001b[0mi\u001b[0m\u001b[1;33m]\u001b[0m\u001b[1;33m,\u001b[0m \u001b[0mcmap\u001b[0m\u001b[1;33m=\u001b[0m\u001b[0mplt\u001b[0m\u001b[1;33m.\u001b[0m\u001b[0mcm\u001b[0m\u001b[1;33m.\u001b[0m\u001b[0mbone\u001b[0m\u001b[1;33m)\u001b[0m\u001b[1;33m\u001b[0m\u001b[1;33m\u001b[0m\u001b[0m\n",
      "\u001b[1;32m<ipython-input-10-359744ebc508>\u001b[0m in \u001b[0;36mgetPlotImg\u001b[1;34m(n_img)\u001b[0m\n\u001b[0;32m      8\u001b[0m         \u001b[0marrPosImg\u001b[0m\u001b[1;33m.\u001b[0m\u001b[0mappend\u001b[0m\u001b[1;33m(\u001b[0m\u001b[0mgetPosImg\u001b[0m\u001b[1;33m(\u001b[0m\u001b[1;33m)\u001b[0m\u001b[1;33m)\u001b[0m\u001b[1;33m\u001b[0m\u001b[1;33m\u001b[0m\u001b[0m\n\u001b[0;32m      9\u001b[0m         \u001b[0marrNegImg\u001b[0m\u001b[1;33m.\u001b[0m\u001b[0mappend\u001b[0m\u001b[1;33m(\u001b[0m\u001b[0mgetNegImg\u001b[0m\u001b[1;33m(\u001b[0m\u001b[1;33m)\u001b[0m\u001b[1;33m)\u001b[0m\u001b[1;33m\u001b[0m\u001b[1;33m\u001b[0m\u001b[0m\n\u001b[1;32m---> 10\u001b[1;33m         \u001b[0mprocessedPosImg\u001b[0m\u001b[1;33m.\u001b[0m\u001b[0mappend\u001b[0m\u001b[1;33m(\u001b[0m\u001b[0mpositiveImgDBSCAN\u001b[0m\u001b[1;33m(\u001b[0m\u001b[0marrPosImg\u001b[0m\u001b[1;33m[\u001b[0m\u001b[0mi\u001b[0m\u001b[1;33m]\u001b[0m\u001b[1;33m)\u001b[0m\u001b[1;33m)\u001b[0m\u001b[1;33m\u001b[0m\u001b[1;33m\u001b[0m\u001b[0m\n\u001b[0m\u001b[0;32m     11\u001b[0m         \u001b[0mprocessedNegImg\u001b[0m\u001b[1;33m.\u001b[0m\u001b[0mappend\u001b[0m\u001b[1;33m(\u001b[0m\u001b[0mnegativeImgDBSCAN\u001b[0m\u001b[1;33m(\u001b[0m\u001b[0marrNegImg\u001b[0m\u001b[1;33m[\u001b[0m\u001b[0mi\u001b[0m\u001b[1;33m]\u001b[0m\u001b[1;33m)\u001b[0m\u001b[1;33m)\u001b[0m\u001b[1;33m\u001b[0m\u001b[1;33m\u001b[0m\u001b[0m\n\u001b[0;32m     12\u001b[0m     \u001b[1;32mreturn\u001b[0m \u001b[0marrPosImg\u001b[0m\u001b[1;33m,\u001b[0m \u001b[0mprocessedPosImg\u001b[0m\u001b[1;33m,\u001b[0m \u001b[0marrNegImg\u001b[0m\u001b[1;33m,\u001b[0m \u001b[0mprocessedNegImg\u001b[0m\u001b[1;33m\u001b[0m\u001b[1;33m\u001b[0m\u001b[0m\n",
      "\u001b[1;31mTypeError\u001b[0m: positiveImgDBSCAN() missing 1 required positional argument: 'epsi'"
     ]
    }
   ],
   "source": [
    "n_img = 2\n",
    "arrPos, proPos, arrNeg, proNeg = getPlotImg(n_img)\n",
    "for i in range(n_img):\n",
    "    ax = fig.add_subplot(3, 3, i + 1, xticks=[], yticks=[])\n",
    "    ax.imshow(arrPos[i], cmap=plt.cm.bone)"
   ]
  },
  {
   "cell_type": "code",
   "execution_count": 12,
   "metadata": {},
   "outputs": [
    {
     "ename": "error",
     "evalue": "OpenCV(4.1.0) c:\\projects\\opencv-python\\opencv\\modules\\imgproc\\src\\color.simd_helpers.hpp:92: error: (-2:Unspecified error) in function '__cdecl cv::impl::`anonymous-namespace'::CvtHelper<struct cv::impl::`anonymous namespace'::Set<3,4,-1>,struct cv::impl::A0xe227985e::Set<1,-1,-1>,struct cv::impl::A0xe227985e::Set<0,2,5>,2>::CvtHelper(const class cv::_InputArray &,const class cv::_OutputArray &,int)'\n> Invalid number of channels in input image:\n>     'VScn::contains(scn)'\n> where\n>     'scn' is 1\n",
     "output_type": "error",
     "traceback": [
      "\u001b[1;31m---------------------------------------------------------------------------\u001b[0m",
      "\u001b[1;31merror\u001b[0m                                     Traceback (most recent call last)",
      "\u001b[1;32m<ipython-input-12-f2d45bfd1f14>\u001b[0m in \u001b[0;36m<module>\u001b[1;34m\u001b[0m\n\u001b[0;32m      1\u001b[0m \u001b[1;31m#img processing\u001b[0m\u001b[1;33m\u001b[0m\u001b[1;33m\u001b[0m\u001b[1;33m\u001b[0m\u001b[0m\n\u001b[1;32m----> 2\u001b[1;33m \u001b[0mgreyPosImg\u001b[0m \u001b[1;33m=\u001b[0m \u001b[0mcv2\u001b[0m\u001b[1;33m.\u001b[0m\u001b[0mcvtColor\u001b[0m\u001b[1;33m(\u001b[0m\u001b[0mposImg\u001b[0m\u001b[1;33m,\u001b[0m \u001b[0mcv2\u001b[0m\u001b[1;33m.\u001b[0m\u001b[0mCOLOR_BGR2GRAY\u001b[0m\u001b[1;33m)\u001b[0m\u001b[1;33m\u001b[0m\u001b[1;33m\u001b[0m\u001b[0m\n\u001b[0m\u001b[0;32m      3\u001b[0m \u001b[1;33m\u001b[0m\u001b[0m\n\u001b[0;32m      4\u001b[0m \u001b[0mplt\u001b[0m\u001b[1;33m.\u001b[0m\u001b[0mimshow\u001b[0m\u001b[1;33m(\u001b[0m\u001b[0mgreyPosImg\u001b[0m\u001b[1;33m)\u001b[0m\u001b[1;33m\u001b[0m\u001b[1;33m\u001b[0m\u001b[0m\n\u001b[0;32m      5\u001b[0m \u001b[0mprint\u001b[0m\u001b[1;33m(\u001b[0m\u001b[0mgreyPosImg\u001b[0m\u001b[1;33m.\u001b[0m\u001b[0mshape\u001b[0m\u001b[1;33m)\u001b[0m\u001b[1;33m\u001b[0m\u001b[1;33m\u001b[0m\u001b[0m\n",
      "\u001b[1;31merror\u001b[0m: OpenCV(4.1.0) c:\\projects\\opencv-python\\opencv\\modules\\imgproc\\src\\color.simd_helpers.hpp:92: error: (-2:Unspecified error) in function '__cdecl cv::impl::`anonymous-namespace'::CvtHelper<struct cv::impl::`anonymous namespace'::Set<3,4,-1>,struct cv::impl::A0xe227985e::Set<1,-1,-1>,struct cv::impl::A0xe227985e::Set<0,2,5>,2>::CvtHelper(const class cv::_InputArray &,const class cv::_OutputArray &,int)'\n> Invalid number of channels in input image:\n>     'VScn::contains(scn)'\n> where\n>     'scn' is 1\n"
     ]
    }
   ],
   "source": [
    "#img processing\n",
    "greyPosImg = cv2.cvtColor(posImg, cv2.COLOR_BGR2GRAY)\n",
    "\n",
    "plt.imshow(greyPosImg)\n",
    "print(greyPosImg.shape)\n"
   ]
  },
  {
   "cell_type": "code",
   "execution_count": 13,
   "metadata": {},
   "outputs": [
    {
     "ename": "NameError",
     "evalue": "name 'greyPosImg' is not defined",
     "output_type": "error",
     "traceback": [
      "\u001b[1;31m---------------------------------------------------------------------------\u001b[0m",
      "\u001b[1;31mNameError\u001b[0m                                 Traceback (most recent call last)",
      "\u001b[1;32m<ipython-input-13-1926544eada3>\u001b[0m in \u001b[0;36m<module>\u001b[1;34m\u001b[0m\n\u001b[0;32m      3\u001b[0m \u001b[1;32mfrom\u001b[0m \u001b[0msklearn\u001b[0m\u001b[1;33m.\u001b[0m\u001b[0mcluster\u001b[0m \u001b[1;32mimport\u001b[0m \u001b[0mDBSCAN\u001b[0m\u001b[1;33m\u001b[0m\u001b[1;33m\u001b[0m\u001b[0m\n\u001b[0;32m      4\u001b[0m \u001b[1;32mfrom\u001b[0m \u001b[0msklearn\u001b[0m \u001b[1;32mimport\u001b[0m \u001b[0mmetrics\u001b[0m\u001b[1;33m\u001b[0m\u001b[1;33m\u001b[0m\u001b[0m\n\u001b[1;32m----> 5\u001b[1;33m \u001b[0mX\u001b[0m \u001b[1;33m=\u001b[0m \u001b[0mStandardScaler\u001b[0m\u001b[1;33m(\u001b[0m\u001b[1;33m)\u001b[0m\u001b[1;33m.\u001b[0m\u001b[0mfit_transform\u001b[0m\u001b[1;33m(\u001b[0m\u001b[0mgreyPosImg\u001b[0m\u001b[1;33m)\u001b[0m\u001b[1;33m\u001b[0m\u001b[1;33m\u001b[0m\u001b[0m\n\u001b[0m\u001b[0;32m      6\u001b[0m \u001b[0mplt\u001b[0m\u001b[1;33m.\u001b[0m\u001b[0mimshow\u001b[0m\u001b[1;33m(\u001b[0m\u001b[0mX\u001b[0m\u001b[1;33m)\u001b[0m\u001b[1;33m\u001b[0m\u001b[1;33m\u001b[0m\u001b[0m\n\u001b[0;32m      7\u001b[0m \u001b[0mdb\u001b[0m \u001b[1;33m=\u001b[0m \u001b[0mDBSCAN\u001b[0m\u001b[1;33m(\u001b[0m\u001b[0meps\u001b[0m\u001b[1;33m=\u001b[0m\u001b[1;36m15\u001b[0m\u001b[1;33m,\u001b[0m \u001b[0mmin_samples\u001b[0m\u001b[1;33m=\u001b[0m\u001b[1;36m40\u001b[0m\u001b[1;33m)\u001b[0m\u001b[1;33m.\u001b[0m\u001b[0mfit\u001b[0m\u001b[1;33m(\u001b[0m\u001b[0mX\u001b[0m\u001b[1;33m)\u001b[0m\u001b[1;33m\u001b[0m\u001b[1;33m\u001b[0m\u001b[0m\n",
      "\u001b[1;31mNameError\u001b[0m: name 'greyPosImg' is not defined"
     ]
    }
   ],
   "source": [
    "#sklearn DBSCAN code\n",
    "from sklearn.preprocessing import StandardScaler\n",
    "from sklearn.cluster import DBSCAN\n",
    "from sklearn import metrics\n",
    "X = StandardScaler().fit_transform(greyPosImg)\n",
    "plt.imshow(X)\n",
    "db = DBSCAN(eps=15, min_samples=40).fit(X)\n",
    "core_samples_mask = np.zeros_like(db.labels_, dtype=bool)\n",
    "core_samples_mask[db.core_sample_indices_] = True\n",
    "labels = db.labels_\n",
    "\n",
    "# Number of clusters in labels, ignoring noise if present.\n",
    "n_clusters_ = len(set(labels)) - (1 if -1 in labels else 0)\n",
    "n_noise_ = list(labels).count(-1)\n",
    "\n",
    "print('Estimated number of clusters: %d' % n_clusters_)\n",
    "print('Estimated number of noise points: %d' % n_noise_)\n",
    "plt.imshow(np.add(greyPosImg, labels[:,np.newaxis]))\n",
    "print(labels)\n"
   ]
  },
  {
   "cell_type": "code",
   "execution_count": null,
   "metadata": {},
   "outputs": [],
   "source": []
  }
 ],
 "metadata": {
  "kernelspec": {
   "display_name": "Python 3",
   "language": "python",
   "name": "python3"
  },
  "language_info": {
   "codemirror_mode": {
    "name": "ipython",
    "version": 3
   },
   "file_extension": ".py",
   "mimetype": "text/x-python",
   "name": "python",
   "nbconvert_exporter": "python",
   "pygments_lexer": "ipython3",
   "version": "3.6.12"
  }
 },
 "nbformat": 4,
 "nbformat_minor": 4
}
